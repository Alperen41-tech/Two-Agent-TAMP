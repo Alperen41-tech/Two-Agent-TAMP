{
 "cells": [
  {
   "cell_type": "code",
   "execution_count": 13,
   "id": "25560485",
   "metadata": {},
   "outputs": [
    {
     "data": {
      "text/plain": [
       "0"
      ]
     },
     "execution_count": 13,
     "metadata": {},
     "output_type": "execute_result"
    }
   ],
   "source": [
    "import robotic as ry\n",
    "import numpy as np\n",
    "\n",
    "from time import sleep\n",
    "\n",
    "\n",
    "\n",
    "\n",
    "\n",
    "C = ry.Config()\n",
    "\n",
    "maps = [\"map1_simple_cross.g\", \"map2_tunnel.g\", \"map3_two_cave.g\", \"map4_one_cave.g\", \"map5_pioneer.g\"]\n",
    "\n",
    "C.addFile(f\"maps/{maps[4]}\")\n",
    "C.view()\n",
    "    \n",
    "\n",
    "\n"
   ]
  }
 ],
 "metadata": {
  "kernelspec": {
   "display_name": "Python 3",
   "language": "python",
   "name": "python3"
  },
  "language_info": {
   "codemirror_mode": {
    "name": "ipython",
    "version": 3
   },
   "file_extension": ".py",
   "mimetype": "text/x-python",
   "name": "python",
   "nbconvert_exporter": "python",
   "pygments_lexer": "ipython3",
   "version": "3.10.12"
  }
 },
 "nbformat": 4,
 "nbformat_minor": 5
}
