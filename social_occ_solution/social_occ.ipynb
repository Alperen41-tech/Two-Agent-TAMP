{
 "cells": [
  {
   "cell_type": "code",
   "execution_count": null,
   "id": "25560485",
   "metadata": {},
   "outputs": [
    {
     "data": {
      "text/plain": [
       "0"
      ]
     },
     "execution_count": 47,
     "metadata": {},
     "output_type": "execute_result"
    },
    {
     "name": "stdout",
     "output_type": "stream",
     "text": [
      "NO SELECTION: SELECTION DEPTH = 1 200\n"
     ]
    }
   ],
   "source": [
    "import robotic as ry\n",
    "import numpy as np\n",
    "\n",
    "from time import sleep\n",
    "\n",
    "\n",
    "\n",
    "\n",
    "\n",
    "C = ry.Config()\n",
    "\n",
    "maps = [\"map1_simple_cross.g\", \"map2_tunnel.g\", \"map3_two_cave.g\"]\n",
    "\n",
    "\n",
    "C.addFile(f\"maps/{maps[2]}\")\n",
    "\n",
    "C.view()\n",
    "\n",
    "\n"
   ]
  }
 ],
 "metadata": {
  "kernelspec": {
   "display_name": "Python 3",
   "language": "python",
   "name": "python3"
  },
  "language_info": {
   "codemirror_mode": {
    "name": "ipython",
    "version": 3
   },
   "file_extension": ".py",
   "mimetype": "text/x-python",
   "name": "python",
   "nbconvert_exporter": "python",
   "pygments_lexer": "ipython3",
   "version": "3.10.12"
  }
 },
 "nbformat": 4,
 "nbformat_minor": 5
}
