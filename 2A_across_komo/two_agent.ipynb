{
 "cells": [
  {
   "cell_type": "code",
   "execution_count": null,
   "metadata": {},
   "outputs": [
    {
     "data": {
      "text/plain": [
       "0"
      ]
     },
     "execution_count": 4,
     "metadata": {},
     "output_type": "execute_result"
    }
   ],
   "source": [
    "import robotic as ry\n",
    "import numpy as np\n",
    "import time\n",
    "\n",
    "\n",
    "C = ry.Config()\n",
    "\n",
    "C.addFile(\"map.g\")\n",
    "\n",
    "\n",
    "goal1 = \"goal1\"\n",
    "goal2 = \"goal2\"\n",
    "\n",
    "agent1 = \"agent1\"\n",
    "agent2 = \"agent2\"\n",
    "\n",
    "box1 = \"box1\"\n",
    "box2 = \"box2\"\n",
    "\n",
    "\n",
    "xy_dim = np.array([[1, 0, 0], [0, 1, 0]])\n",
    "\n",
    "\n",
    "robots = [agent1, agent2]\n",
    "boxs = [box1, box2]\n",
    "goals = [goal1, goal2]\n",
    "\n",
    "\n",
    "qHome = C.getJointState()\n",
    "\n",
    "#C.view()"
   ]
  },
  {
   "cell_type": "code",
   "execution_count": 5,
   "metadata": {},
   "outputs": [],
   "source": [
    "\"\"\"def komo_solver(robots, m_objects, goals):\n",
    "    \n",
    "    komo = ry.KOMO(C, phases=2.5, slicesPerPhase=30, kOrder=2, enableCollisions=True)  \n",
    "    komo.addControlObjective([], 0, 1e0)\n",
    "    komo.addControlObjective([], 2, 1e0)\n",
    "    \n",
    "    komo.addObjective([], ry.FS.accumulatedCollisions, [], ry.OT.eq, 1e1)     \n",
    "    \n",
    "    for i in range(len(robots)):\n",
    "        komo.addObjective([1.5, -1], ry.FS.distance, [robots[i], m_objects[i]], ry.OT.eq) \n",
    "        komo.addModeSwitch([1.5, -1], ry.SY.stable, [robots[i], m_objects[i]], True) \n",
    "        komo.addObjective([2.5] , ry.FS.positionDiff, [m_objects[i], goals[i]], ry.OT.eq) \n",
    "\n",
    "    ret = ry.NLP_Solver(komo.nlp(), verbose=0).solve() \n",
    "    \n",
    "    return (komo, ret)\"\"\"\n",
    "\n",
    "def komo_solver(robots, m_objects, goals):\n",
    "    \n",
    "    komo = ry.KOMO(C, phases=2, slicesPerPhase=30, kOrder=2, enableCollisions=True)  \n",
    "    #komo.addControlObjective([], 0, 1e0)\n",
    "    komo.addControlObjective([], 2, 1e0)\n",
    "    \n",
    "    komo.addObjective([], ry.FS.accumulatedCollisions, [], ry.OT.eq, 1e0)     \n",
    "    \n",
    "    for i in range(len(robots)):\n",
    "        komo.addObjective([1, -1], ry.FS.distance, [robots[i], m_objects[i]], ry.OT.eq, 1e2) \n",
    "        komo.addModeSwitch([1,-1], ry.SY.stable, [robots[i], m_objects[i]], True) \n",
    "        komo.addObjective([2] , ry.FS.positionDiff, [m_objects[i], goals[i]], ry.OT.eq, 1e1) \n",
    "\n",
    "    ret = ry.NLP_Solver(komo.nlp(), verbose=0).solve() \n",
    "    \n",
    "    return (komo, ret)\n",
    "\n",
    "\n",
    "komo, ret = komo_solver(robots, boxs, goals)"
   ]
  },
  {
   "cell_type": "code",
   "execution_count": 6,
   "metadata": {},
   "outputs": [
    {
     "data": {
      "text/plain": [
       "37"
      ]
     },
     "execution_count": 6,
     "metadata": {},
     "output_type": "execute_result"
    }
   ],
   "source": [
    "komo.view_play(True, f\"isFeasible: {ret.feasible}\\nequality: {ret.eq}\\nsos: {ret.sos}\")"
   ]
  },
  {
   "cell_type": "code",
   "execution_count": null,
   "metadata": {},
   "outputs": [],
   "source": [
    "komo = ry.KOMO(C, 2.5, 30, 2, True)\n",
    "\n",
    "komo.addControlObjective([], 0, 1e0)\n",
    "komo.addControlObjective([], 2, 1e0)\n",
    "komo.addObjective([], ry.FS.accumulatedCollisions, [], ry.OT.eq, 1e0)\n",
    "\n",
    "komo.addObjective([1, -1], ry.FS.distance, [agent1, box1], ry.OT.eq, 1e2)\n",
    "komo.addObjective([1, -1], ry.FS.distance, [agent2, box2], ry.OT.eq, 1e2)\n",
    "\n",
    "komo.addModeSwitch([1, -1], ry.SY.stable, [agent1, box1], True)\n",
    "komo.addModeSwitch([1, -1], ry.SY.stable, [agent2, box2], True)\n",
    "\n",
    "komo.addObjective([2.5], ry.FS.positionDiff, [box1, goal1], ry.OT.eq, 1e1)\n",
    "komo.addObjective([2.5], ry.FS.positionDiff, [box2, goal2], ry.OT.eq, 1e1)\n",
    "\n",
    "\n",
    "ret = ry.NLP_Solver(komo.nlp(), verbose = 0).solve()\n",
    "\n",
    "\n",
    "midState = komo.getPath()[0]\n"
   ]
  },
  {
   "cell_type": "code",
   "execution_count": null,
   "metadata": {},
   "outputs": [],
   "source": [
    "komo.view_play(True, f\"isFeasible: {ret.feasible}\\nequality: {ret.eq}\\nsos: {ret.sos}\")"
   ]
  },
  {
   "cell_type": "code",
   "execution_count": null,
   "metadata": {},
   "outputs": [],
   "source": [
    "komo = ry.KOMO(C, 1, 1, 2, True)\n",
    "\n",
    "\n",
    "\n",
    "\n",
    "komo.addObjective([], ry.FS.positionRel, [box1, goal1], ry.OT.eq, 1e1)\n",
    "komo.addObjective([], ry.FS.positionRel, [box2, goal2], ry.OT.eq, 1e1)\n",
    "\n",
    "#komo.addModeSwitch([0, 1], ry.SY.stable, [agent1, box1], True)\n",
    "#komo.addModeSwitch([0, 1], ry.SY.stable, [agent2, box2], True)\n",
    "\n",
    "\n",
    "ret = ry.NLP_Solver(komo.nlp(), verbose= 4).solve()\n",
    "\n",
    "komo.view_play()\n",
    "\n",
    "finalState = komo.getPath()[0]\n"
   ]
  },
  {
   "cell_type": "code",
   "execution_count": null,
   "metadata": {},
   "outputs": [],
   "source": [
    "\n",
    "C.view()\n",
    "\n",
    "rrt = ry.PathFinder()\n",
    "rrt.setProblem(C, qHome, midState)\n",
    "\n",
    "ret = rrt.solve()\n",
    "\n",
    "\n",
    "path = ret.x\n",
    "\n",
    "#time.sleep(15)\n",
    "\n",
    "\n",
    "for p in path:\n",
    "    C.setJointState(p)\n",
    "    C.view()\n",
    "    time.sleep(.01)\n"
   ]
  },
  {
   "cell_type": "code",
   "execution_count": null,
   "metadata": {},
   "outputs": [],
   "source": [
    "C.attach(agent1, box1)\n",
    "C.attach(agent2, box2)"
   ]
  },
  {
   "cell_type": "code",
   "execution_count": null,
   "metadata": {},
   "outputs": [],
   "source": [
    "rrt = ry.PathFinder()\n",
    "rrt.setProblem(C, midState, finalState)\n",
    "\n",
    "ret = rrt.solve()\n",
    "\n",
    "path = ret.x\n",
    "\n",
    "\n",
    "for p in path:\n",
    "    C.setJointState(p)\n",
    "    C.view()\n",
    "    time.sleep(.01)"
   ]
  }
 ],
 "metadata": {
  "kernelspec": {
   "display_name": "Python 3",
   "language": "python",
   "name": "python3"
  },
  "language_info": {
   "codemirror_mode": {
    "name": "ipython",
    "version": 3
   },
   "file_extension": ".py",
   "mimetype": "text/x-python",
   "name": "python",
   "nbconvert_exporter": "python",
   "pygments_lexer": "ipython3",
   "version": "3.10.12"
  }
 },
 "nbformat": 4,
 "nbformat_minor": 2
}
