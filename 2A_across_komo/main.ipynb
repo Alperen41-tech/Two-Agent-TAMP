{
 "cells": [
  {
   "cell_type": "code",
   "execution_count": 8,
   "metadata": {},
   "outputs": [],
   "source": [
    "import robotic as ry\n",
    "import numpy as np\n",
    "import time\n",
    "\n",
    "\n",
    "\n",
    "\n",
    "C = ry.Config()\n",
    "C.addFile(\"map.g\")\n",
    "\n",
    "\n",
    "goal1 = \"goal1\"\n",
    "goal2 = \"goal2\"\n",
    "\n",
    "agent1 = \"agent1\"\n",
    "agent2 = \"agent2\"\n",
    "\n",
    "box1 = \"box1\"\n",
    "box2 = \"box2\"\n",
    "\n",
    "\n",
    "xy_dim = np.array([[1, 0, 0], [0, 1, 0]])\n",
    "\n",
    "\n",
    "qHome = C.getJointState()\n",
    "#C.view()\n"
   ]
  },
  {
   "cell_type": "code",
   "execution_count": 9,
   "metadata": {},
   "outputs": [],
   "source": [
    "# setting up komo problem for gripping the two objects at the same time\n",
    "\n",
    "komo = ry.KOMO(C, 2, 50, 2, True)\n",
    "\n",
    "komo.addControlObjective([], 2, 1e0)\n",
    "\n",
    "komo.addObjective([], ry.FS.accumulatedCollisions, [], ry.OT.eq, 1e1)\n",
    "\n",
    "\n",
    "komo.addObjective([0.5, 1], ry.FS.distance, [agent1, box1], ry.OT.eq, 1e1)\n",
    "komo.addObjective([0.5, 1], ry.FS.distance, [agent2, box2], ry.OT.eq, 1e1)\n",
    "\n",
    "\n",
    "komo.addModeSwitch([0.5, -1], ry.SY.stable, [agent1, box1], True)\n",
    "komo.addModeSwitch([0.5, -1], ry.SY.stable, [agent2, box2], True)\n",
    "\n",
    "komo.addObjective([1.2, -1], ry.FS.positionRel, [box1, goal1], ry.OT.eq, xy_dim * 1e1)\n",
    "komo.addObjective([1.2, -1], ry.FS.positionRel, [box2, goal2], ry.OT.eq, xy_dim * 1e1)\n",
    "\n",
    "\n",
    "\n",
    "ret =  ry.NLP_Solver(komo.nlp(), 4).solve()"
   ]
  },
  {
   "cell_type": "code",
   "execution_count": 10,
   "metadata": {},
   "outputs": [
    {
     "data": {
      "text/plain": [
       "37"
      ]
     },
     "execution_count": 10,
     "metadata": {},
     "output_type": "execute_result"
    }
   ],
   "source": [
    "komo.view_play(True, f\"isFeasible: {ret.feasible}\\nEquality: {ret.eq}\\nSos: {ret.sos}\")"
   ]
  },
  {
   "cell_type": "code",
   "execution_count": 11,
   "metadata": {},
   "outputs": [
    {
     "name": "stdout",
     "output_type": "stream",
     "text": [
      "Feature: o2 --------\n",
      "{'name': 'F_PairCollision', 'frames': ['agent1', 'box1'], 'err': 0.0002668269691350096, 'order': 0.0, 'type': 'eq', 'times': [0.5, 1.0], 'slices': [24.0, 49.0]}\n",
      "Feature: o4 --------\n",
      "{'name': 'F_Pose', 'frames': ['box1'], 'err': 0.0003743735792760552, 'order': 1.0, 'type': 'eq', 'scale': [10.0], 'times': [0.5], 'slices': [24.0, 24.0]}\n",
      "Feature: o6 --------\n",
      "{'name': 'F_Pose', 'frames': ['box2'], 'err': 0.00048000897553621195, 'order': 1.0, 'type': 'eq', 'scale': [10.0], 'times': [0.5], 'slices': [24.0, 24.0]}\n",
      "Feature: o3 --------\n",
      "{'name': 'F_PairCollision', 'frames': ['agent2', 'box2'], 'err': 0.0008782603714859675, 'order': 0.0, 'type': 'eq', 'times': [0.5, 1.0], 'slices': [24.0, 49.0]}\n",
      "Feature: o5 --------\n",
      "{'name': 'F_LinAngVel', 'frames': ['box1'], 'err': 0.0017306219122700827, 'order': 2.0, 'type': 'eq', 'scale': [1.0], 'times': [0.5], 'slices': [24.0, 24.0]}\n",
      "Feature: o7 --------\n",
      "{'name': 'F_LinAngVel', 'frames': ['box2'], 'err': 0.0022586234141308615, 'order': 2.0, 'type': 'eq', 'scale': [1.0], 'times': [0.5], 'slices': [24.0, 24.0]}\n",
      "Feature: o1 --------\n",
      "{'name': 'F_AccumulatedCollisions', 'frames': ['#8'], 'err': 0.0033471783802757112, 'order': 0.0, 'type': 'eq', 'times': [], 'slices': [0.0, 99.0]}\n",
      "Feature: o8 --------\n",
      "{'name': 'F_PositionRel', 'frames': ['box1', 'goal1'], 'err': 0.020027445252845943, 'order': 0.0, 'type': 'eq', 'scale': [10.0, 0.0, 0.0, 0.0, 10.0, 0.0], 'times': [1.2, -1.0], 'slices': [59.0, 99.0]}\n",
      "Feature: o9 --------\n",
      "{'name': 'F_PositionRel', 'frames': ['box2', 'goal2'], 'err': 0.020587320384932717, 'order': 0.0, 'type': 'eq', 'scale': [10.0, 0.0, 0.0, 0.0, 10.0, 0.0], 'times': [1.2, -1.0], 'slices': [59.0, 99.0]}\n",
      "Feature: o0 --------\n",
      "{'name': 'F_qItself', 'frames': ['#4'], 'err': 2972.458046295204, 'order': 2.0, 'type': 'sos', 'scale': [1.0, 1.0, 1.0, 1.0, 1.0, 1.0], 'times': [], 'slices': [0.0, 99.0]}\n",
      "Feature: totals --------\n",
      "{'sos': 2972.458046295204, 'ineq': 0.0, 'eq': 0.04995065923988856, 'f': 0.0}\n"
     ]
    }
   ],
   "source": [
    "d = komo.report()\n",
    "\n",
    "\n",
    "\n",
    "for i in komo.report():\n",
    "    print(f\"Feature: {i} --------\")\n",
    "    print(d[i])\n",
    "    \n"
   ]
  }
 ],
 "metadata": {
  "kernelspec": {
   "display_name": "Python 3",
   "language": "python",
   "name": "python3"
  },
  "language_info": {
   "codemirror_mode": {
    "name": "ipython",
    "version": 3
   },
   "file_extension": ".py",
   "mimetype": "text/x-python",
   "name": "python",
   "nbconvert_exporter": "python",
   "pygments_lexer": "ipython3",
   "version": "3.10.12"
  }
 },
 "nbformat": 4,
 "nbformat_minor": 2
}
