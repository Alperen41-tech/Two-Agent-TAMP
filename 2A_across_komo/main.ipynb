{
 "cells": [
  {
   "cell_type": "code",
   "execution_count": null,
   "metadata": {},
   "outputs": [],
   "source": [
    "import robotic as ry\n",
    "import numpy as np\n",
    "import time\n",
    "\n",
    "\n",
    "\n",
    "\n",
    "C = ry.Config()\n",
    "C.addFile(\"map.g\")\n",
    "\n",
    "\n",
    "goal1 = \"goal1\"\n",
    "goal2 = \"goal2\"\n",
    "\n",
    "agent1 = \"agent1\"\n",
    "agent2 = \"agent2\"\n",
    "\n",
    "box1 = \"box1\"\n",
    "box2 = \"box2\"\n",
    "\n",
    "\n",
    "xy_dim = np.array([[1, 0, 0], [0, 1, 0]])\n",
    "\n",
    "\n",
    "qHome = C.getJointState()\n",
    "#C.view()\n"
   ]
  },
  {
   "cell_type": "code",
   "execution_count": null,
   "metadata": {},
   "outputs": [],
   "source": [
    "# setting up komo problem for gripping the two objects at the same time\n",
    "\n",
    "komo = ry.KOMO(C, 2, 50, 2, True)\n",
    "\n",
    "komo.addControlObjective([], 2, 1e0)\n",
    "\n",
    "komo.addObjective([], ry.FS.accumulatedCollisions, [], ry.OT.eq, 1e1)\n",
    "\n",
    "\n",
    "komo.addObjective([0.5, 1], ry.FS.distance, [agent1, box1], ry.OT.eq, 1e1)\n",
    "komo.addObjective([0.5, 1], ry.FS.distance, [agent2, box2], ry.OT.eq, 1e1)\n",
    "\n",
    "\n",
    "komo.addModeSwitch([0.5, -1], ry.SY.stable, [agent1, box1], True)\n",
    "komo.addModeSwitch([0.5, -1], ry.SY.stable, [agent2, box2], True)\n",
    "\n",
    "komo.addObjective([1.2, -1], ry.FS.positionRel, [box1, goal1], ry.OT.eq, xy_dim * 1e1)\n",
    "komo.addObjective([1.2, -1], ry.FS.positionRel, [box2, goal2], ry.OT.eq, xy_dim * 1e1)\n",
    "\n",
    "\n",
    "\n",
    "ret =  ry.NLP_Solver(komo.nlp(), 4).solve()"
   ]
  },
  {
   "cell_type": "code",
   "execution_count": null,
   "metadata": {},
   "outputs": [],
   "source": [
    "komo.view_play(True, f\"isFeasible: {ret.feasible}\\nEquality: {ret.eq}\\nSos: {ret.sos}\")"
   ]
  },
  {
   "cell_type": "code",
   "execution_count": null,
   "metadata": {},
   "outputs": [],
   "source": [
    "d = komo.report()\n",
    "\n",
    "\n",
    "\n",
    "for i in komo.report():\n",
    "    print(f\"Feature: {i} --------\")\n",
    "    print(d[i])\n",
    "    \n"
   ]
  }
 ],
 "metadata": {
  "kernelspec": {
   "display_name": "Python 3",
   "language": "python",
   "name": "python3"
  },
  "language_info": {
   "codemirror_mode": {
    "name": "ipython",
    "version": 3
   },
   "file_extension": ".py",
   "mimetype": "text/x-python",
   "name": "python",
   "nbconvert_exporter": "python",
   "pygments_lexer": "ipython3",
   "version": "3.10.12"
  }
 },
 "nbformat": 4,
 "nbformat_minor": 2
}
