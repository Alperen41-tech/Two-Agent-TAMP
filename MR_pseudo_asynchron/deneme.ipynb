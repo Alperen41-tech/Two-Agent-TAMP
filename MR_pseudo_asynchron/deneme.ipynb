{
 "cells": [
  {
   "cell_type": "code",
   "execution_count": 1,
   "metadata": {},
   "outputs": [
    {
     "name": "stdout",
     "output_type": "stream",
     "text": [
      "[3, 4, 5]\n"
     ]
    }
   ],
   "source": [
    "import robotic as ry\n",
    "\n",
    "\n",
    "C = ry.Config()\n",
    "\n",
    "\n",
    "l = [1,2,3,4,5]\n",
    "\n",
    "print(l[2:])\n",
    "\n",
    "C.addFile(\"cross_map.g\")\n",
    "\n",
    "C.view()\n",
    "\n",
    "\n",
    "def komo_solver(robots, m_objects, goals):\n",
    "    \n",
    "    if not isinstance(robots, list):\n",
    "        robots = [robots]\n",
    "    if not isinstance(m_objects, list):\n",
    "        m_objects = [m_objects]\n",
    "    if not isinstance(goals, list):\n",
    "        goals = [goals]\n",
    "    \n",
    "    komo = ry.KOMO(C, phases=2, slicesPerPhase=10, kOrder=2, enableCollisions=True)  \n",
    "    komo.updateRootObjects(C)\n",
    "    komo.addControlObjective([], 0)\n",
    "    komo.addControlObjective([], 2)\n",
    "    \n",
    "    komo.addObjective([], ry.FS.accumulatedCollisions, [], ry.OT.eq, 1e5)     \n",
    "    \n",
    "    for i in range(len(robots)):\n",
    "        komo.addObjective([1, -1], ry.FS.distance, [robots[i], m_objects[i]], ry.OT.eq) \n",
    "        komo.addModeSwitch([1,-1], ry.SY.stable, [robots[i], m_objects[i]], True) \n",
    "        komo.addObjective([2] , ry.FS.positionDiff, [m_objects[i], goals[i]], ry.OT.eq) \n",
    "\n",
    "    ret = ry.NLP_Solver(komo.nlp(), verbose=4).solve() \n",
    "    \n",
    "    return (komo, ret)\n",
    "\n",
    "\n",
    "\n",
    "\n"
   ]
  },
  {
   "cell_type": "code",
   "execution_count": 12,
   "metadata": {},
   "outputs": [
    {
     "name": "stdout",
     "output_type": "stream",
     "text": [
      "False\n"
     ]
    },
    {
     "data": {
      "text/plain": [
       "0"
      ]
     },
     "execution_count": 12,
     "metadata": {},
     "output_type": "execute_result"
    }
   ],
   "source": [
    "komo, ret = komo_solver(\"r2\", \"m2\", \"g2\")\n",
    "\n",
    "print(ret.feasible)\n",
    "\n",
    "komo.view_play()"
   ]
  }
 ],
 "metadata": {
  "kernelspec": {
   "display_name": "Python 3",
   "language": "python",
   "name": "python3"
  },
  "language_info": {
   "codemirror_mode": {
    "name": "ipython",
    "version": 3
   },
   "file_extension": ".py",
   "mimetype": "text/x-python",
   "name": "python",
   "nbconvert_exporter": "python",
   "pygments_lexer": "ipython3",
   "version": "3.10.12"
  }
 },
 "nbformat": 4,
 "nbformat_minor": 2
}
