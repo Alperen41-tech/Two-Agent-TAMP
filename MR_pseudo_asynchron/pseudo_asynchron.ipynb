{
 "cells": [
  {
   "cell_type": "code",
   "execution_count": 1,
   "metadata": {},
   "outputs": [],
   "source": [
    "import robotic as ry\n",
    "import numpy as np\n",
    "import time\n",
    "\n",
    "\n",
    "C = ry.Config()\n",
    "C.addFile(\"cross_map.g\")\n",
    "\n",
    "r1 = \"r1\"\n",
    "r2 = \"r2\"\n",
    "m1 = \"m1\"\n",
    "m2 = \"m2\"\n",
    "g1 = \"g1\"\n",
    "g2 = \"g2\"\n",
    "\n",
    "robots = [r1, r2]\n",
    "m_objects = [m1, m2]\n",
    "goals = [g1, g2]\n",
    "\n",
    "xy_dim = np.array([[1, 0, 0], [0, 1, 0]])\n",
    "\n",
    "\n",
    "def komo_solver(robots, m_objects, goals):\n",
    "    \n",
    "    if not isinstance(robots, list):\n",
    "        robots = [robots]\n",
    "    if not isinstance(m_objects, list):\n",
    "        m_objects = [m_objects]\n",
    "    if not isinstance(goals, list):\n",
    "        goals = [goals]\n",
    "    \n",
    "    komo = ry.KOMO(C, phases=2, slicesPerPhase=10, kOrder=2, enableCollisions=True)  \n",
    "    komo.addControlObjective([], 0)\n",
    "    komo.addControlObjective([], 2)\n",
    "    \n",
    "    komo.addObjective([], ry.FS.accumulatedCollisions, [], ry.OT.eq)     \n",
    "    \n",
    "    for i in range(len(robots)):\n",
    "        komo.addObjective([1, -1], ry.FS.distance, [robots[i], m_objects[i]], ry.OT.eq) \n",
    "        komo.addModeSwitch([1,-1], ry.SY.stable, [robots[i], m_objects[i]], True) \n",
    "        komo.addObjective([2] , ry.FS.positionDiff, [m_objects[i], goals[i]], ry.OT.eq) \n",
    "\n",
    "    ret = ry.NLP_Solver(komo.nlp(), verbose=4).solve() \n",
    "    \n",
    "    return (komo, ret)\n",
    "\n",
    "\n",
    "def collisions(config, path):\n",
    "    \n",
    "    counter = 0\n",
    "    for state in path:\n",
    "        if counter == 10:\n",
    "            config.attach(m1, r1)\n",
    "        config.setJointState(state)\n",
    "        config.view()\n",
    "        config.computeCollisions()\n",
    "        y, j = config.eval(ry.FS.accumulatedCollisions)\n",
    "        print(y)\n",
    "        counter += 1\n",
    "        #time.sleep(1)\n",
    "        "
   ]
  },
  {
   "cell_type": "code",
   "execution_count": 2,
   "metadata": {},
   "outputs": [
    {
     "name": "stdout",
     "output_type": "stream",
     "text": [
      "Both objects simultaneously\n",
      "eq: 0.03090137447258578\n",
      "Sos: 510.618475101836\n",
      "isFeasible: True\n",
      "[0.]\n",
      "[0.]\n",
      "[0.]\n",
      "[0.]\n",
      "[0.]\n",
      "[0.]\n",
      "[0.]\n",
      "[0.]\n",
      "[0.]\n",
      "[0.]\n",
      "STACK9 /bin/python3(_PyEval_EvalFrameDefault\n",
      "STACK8 /bin/python3(_PyFunction_Vectorcall\n",
      "STACK7 /bin/python3(_PyEval_EvalFrameDefault\n",
      "STACK6 /bin/python3(+0x198a6b) [0x558f126faa6b]\n",
      "STACK5 /bin/python3(_PyObject_MakeTpCall\n",
      "STACK4 /bin/python3(+0x18ae12) [0x558f126ece12]\n",
      "STACK3 /home/alperen/.local/lib/python3.10/site-packages/robotic/_robotic.so(+0x3f21e) [0x7fb43462021e]\n",
      "STACK2 /home/alperen/.local/lib/python3.10/site-packages/robotic/_robotic.so(+0x81a3d) [0x7fb434662a3d]\n",
      "STACK1 rai::Configuration::setJointState(rai::ArrayDouble const&)\n",
      "STACK0 rai::LogToken::~LogToken()\n"
     ]
    },
    {
     "name": "stderr",
     "output_type": "stream",
     "text": [
      "== ERROR:kin.cpp:setJointState:675(-2) CHECK_EQ failed: '_q.N'=6 'N'=3 -- wrong joint state dimensionalities\n"
     ]
    },
    {
     "ename": "RuntimeError",
     "evalue": "kin.cpp:setJointState:675(-2) CHECK_EQ failed: '_q.N'=6 'N'=3 -- wrong joint state dimensionalities",
     "output_type": "error",
     "traceback": [
      "\u001b[0;31m---------------------------------------------------------------------------\u001b[0m",
      "\u001b[0;31mRuntimeError\u001b[0m                              Traceback (most recent call last)",
      "Cell \u001b[0;32mIn[2], line 13\u001b[0m\n\u001b[1;32m     11\u001b[0m \u001b[38;5;28;01mif\u001b[39;00m ret_both\u001b[38;5;241m.\u001b[39mfeasible \u001b[38;5;241m==\u001b[39m \u001b[38;5;28;01mTrue\u001b[39;00m:\n\u001b[1;32m     12\u001b[0m     path \u001b[38;5;241m=\u001b[39m komo_both\u001b[38;5;241m.\u001b[39mgetPath()    \n\u001b[0;32m---> 13\u001b[0m     \u001b[43mcollisions\u001b[49m\u001b[43m(\u001b[49m\u001b[43mC\u001b[49m\u001b[43m,\u001b[49m\u001b[43m \u001b[49m\u001b[43mpath\u001b[49m\u001b[43m)\u001b[49m\n\u001b[1;32m     17\u001b[0m \u001b[38;5;28;01melse\u001b[39;00m:\n\u001b[1;32m     18\u001b[0m     \u001b[38;5;28;01mpass\u001b[39;00m\n",
      "Cell \u001b[0;32mIn[1], line 54\u001b[0m, in \u001b[0;36mcollisions\u001b[0;34m(config, path)\u001b[0m\n\u001b[1;32m     52\u001b[0m \u001b[38;5;28;01mif\u001b[39;00m counter \u001b[38;5;241m==\u001b[39m \u001b[38;5;241m10\u001b[39m:\n\u001b[1;32m     53\u001b[0m     config\u001b[38;5;241m.\u001b[39mattach(m1, r1)\n\u001b[0;32m---> 54\u001b[0m \u001b[43mconfig\u001b[49m\u001b[38;5;241;43m.\u001b[39;49m\u001b[43msetJointState\u001b[49m\u001b[43m(\u001b[49m\u001b[43mstate\u001b[49m\u001b[43m)\u001b[49m\n\u001b[1;32m     55\u001b[0m config\u001b[38;5;241m.\u001b[39mview()\n\u001b[1;32m     56\u001b[0m config\u001b[38;5;241m.\u001b[39mcomputeCollisions()\n",
      "\u001b[0;31mRuntimeError\u001b[0m: kin.cpp:setJointState:675(-2) CHECK_EQ failed: '_q.N'=6 'N'=3 -- wrong joint state dimensionalities"
     ]
    }
   ],
   "source": [
    "# try to solve situation for both case \n",
    "#komo_both, ret_both = komo_solver(robots, m_objects, goals)\n",
    "komo_both, ret_both = komo_solver(r1, m_objects, goals)\n",
    "\n",
    "\n",
    "print(f\"Both objects simultaneously\\neq: {ret_both.eq}\\nSos: {ret_both.sos}\\nisFeasible: {ret_both.feasible}\")\n",
    "\n",
    "\n",
    "\n",
    "\n",
    "if ret_both.feasible == True:\n",
    "    path = komo_both.getPath()    \n",
    "    collisions(C, path)\n",
    "    \n",
    "    \n",
    "    \n",
    "else:\n",
    "    pass\n",
    "    \n",
    "\n"
   ]
  },
  {
   "cell_type": "code",
   "execution_count": null,
   "metadata": {},
   "outputs": [],
   "source": [
    "komo_both.view_play()"
   ]
  }
 ],
 "metadata": {
  "kernelspec": {
   "display_name": "Python 3",
   "language": "python",
   "name": "python3"
  },
  "language_info": {
   "codemirror_mode": {
    "name": "ipython",
    "version": 3
   },
   "file_extension": ".py",
   "mimetype": "text/x-python",
   "name": "python",
   "nbconvert_exporter": "python",
   "pygments_lexer": "ipython3",
   "version": "3.10.12"
  }
 },
 "nbformat": 4,
 "nbformat_minor": 2
}
